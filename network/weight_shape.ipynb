{
 "cells": [
  {
   "cell_type": "code",
   "execution_count": null,
   "metadata": {},
   "outputs": [
    {
     "ename": "",
     "evalue": "",
     "output_type": "error",
     "traceback": [
      "\u001b[1;31m'base' でセルを実行するには、 ipykernel パッケージが必要です。\n",
      "\u001b[1;31m次のコマンドを実行して、'ipykernel' を Python 環境にインストールします。\n",
      "\u001b[1;31mコマンド: 'conda install -n base ipykernel --update-deps --force-reinstall'"
     ]
    }
   ],
   "source": [
    "import os\n",
    "import numpy as np\n",
    "from pathlib import Path\n",
    "import torch\n",
    "from torch import nn\n"
   ]
  },
  {
   "cell_type": "code",
   "execution_count": null,
   "metadata": {},
   "outputs": [
    {
     "ename": "",
     "evalue": "",
     "output_type": "error",
     "traceback": [
      "\u001b[1;31m'base' でセルを実行するには、 ipykernel パッケージが必要です。\n",
      "\u001b[1;31m次のコマンドを実行して、'ipykernel' を Python 環境にインストールします。\n",
      "\u001b[1;31mコマンド: 'conda install -n base ipykernel --update-deps --force-reinstall'"
     ]
    }
   ],
   "source": [
    "print(os.getcwd())\n",
    "os.chdir(\"..\")\n",
    "print(os.getcwd())\n",
    "\n",
    "bindata = {}\n",
    "for fp in sorted(Path(\"data/ManipNetBIN\").iterdir()):\n",
    "    # print(fp)\n",
    "    bindata[fp.stem] = np.fromfile(fp)\n",
    "for k, v in bindata.items():\n",
    "    print(k, v.shape)\n",
    "\n",
    "os.chdir(\"data/ManipNetBIN\")\n",
    "print(os.getcwd())\n",
    "# num = np.fromfile('Decoder_b0.bin')\n",
    "# print(num)"
   ]
  },
  {
   "cell_type": "code",
   "execution_count": null,
   "metadata": {},
   "outputs": [
    {
     "ename": "",
     "evalue": "",
     "output_type": "error",
     "traceback": [
      "\u001b[1;31m'base' でセルを実行するには、 ipykernel パッケージが必要です。\n",
      "\u001b[1;31m次のコマンドを実行して、'ipykernel' を Python 環境にインストールします。\n",
      "\u001b[1;31mコマンド: 'conda install -n base ipykernel --update-deps --force-reinstall'"
     ]
    }
   ],
   "source": [
    "class resblock():\n",
    "    def __init__(self, in_vec, out_vec):\n",
    "        self.FC = nn.Linear(in_vec, out_vec)\n",
    "    def __call__(self, H_zero):\n",
    "        H_zero = nn.ReLU(H_zero)\n",
    "        H_one = self.FC(H_zero) + H_zero\n",
    "        H_one  = nn.ReLU(H_one)\n",
    "        H_two = self.res_fc(H_one) + H_one + H_zero\n",
    "        return H_two"
   ]
  },
  {
   "cell_type": "code",
   "execution_count": null,
   "metadata": {},
   "outputs": [
    {
     "ename": "",
     "evalue": "",
     "output_type": "error",
     "traceback": [
      "\u001b[1;31m'base' でセルを実行するには、 ipykernel パッケージが必要です。\n",
      "\u001b[1;31m次のコマンドを実行して、'ipykernel' を Python 環境にインストールします。\n",
      "\u001b[1;31mコマンド: 'conda install -n base ipykernel --update-deps --force-reinstall'"
     ]
    }
   ],
   "source": [
    "# 訓練に際して、可能であればGPU（cuda）を設定します。GPUが搭載されていない場合はCPUを使用します\n",
    "device = \"cuda\" if torch.cuda.is_available() else \"cpu\"\n",
    "print(\"Using {} device\".format(device))\n",
    "\n",
    "# modelを定義します\n",
    "class NeuralNetwork(nn.Module):\n",
    "    def __init__(self):\n",
    "        super(NeuralNetwork, self).__init__()\n",
    "        # self.Decoder_b0 = nn.Linear(1536, 220)\n",
    "        # self.flatten = nn.Flatten()\n",
    "        # self.pose_fc = nn.Linear(198, 512)\n",
    "        # self.traj_fc = nn.Linear(336, 512)\n",
    "        # self.sensor_fc = nn.Linear(1822, 512)\n",
    "        # self.res_fc = nn.Linear(1536, 1536)\n",
    "        # self.res1 = resblock(1536, 1536)\n",
    "        # self.res2 = resblock(1536, 1536)\n",
    "        self.Decoder_b0 = nn.Linear(1536, 107)\n",
    "        self.flatten = nn.Flatten()\n",
    "        self.pose_fc = nn.Linear(192, 256)\n",
    "        self.traj_fc = nn.Linear(336, 256)\n",
    "        self.sensor_fc = nn.Linear(1822, 256)\n",
    "        self.res_fc = nn.Linear(1536, 1536)\n",
    "        self.res1 = resblock(1536, 1536)\n",
    "        self.res2 = resblock(1536, 1536)\n",
    "\n",
    "    def forward(self, pose, traj, sensor):\n",
    "        x = self.flatten(x)\n",
    "        pose = self.pose_fc(pose)\n",
    "        traj = self.traj_fc(traj)\n",
    "        sensor = self.sensor_fc(sensor)\n",
    "        out = torch.cat(pose, traj, sensor, dim=1)\n",
    "        out = self.res1(out)\n",
    "        out = self.res2(out)\n",
    "        out = self.decoder_fc(out)\n",
    "        return out\n",
    "\n",
    "model = NeuralNetwork().to(device)\n",
    "print(model)"
   ]
  },
  {
   "cell_type": "code",
   "execution_count": null,
   "metadata": {},
   "outputs": [
    {
     "ename": "",
     "evalue": "",
     "output_type": "error",
     "traceback": [
      "\u001b[1;31m'base' でセルを実行するには、 ipykernel パッケージが必要です。\n",
      "\u001b[1;31m次のコマンドを実行して、'ipykernel' を Python 環境にインストールします。\n",
      "\u001b[1;31mコマンド: 'conda install -n base ipykernel --update-deps --force-reinstall'"
     ]
    }
   ],
   "source": [
    "for name, param in model.named_parameters():\n",
    "    print(name, param.shape)"
   ]
  },
  {
   "cell_type": "code",
   "execution_count": null,
   "metadata": {},
   "outputs": [
    {
     "ename": "",
     "evalue": "",
     "output_type": "error",
     "traceback": [
      "\u001b[1;31m'base' でセルを実行するには、 ipykernel パッケージが必要です。\n",
      "\u001b[1;31m次のコマンドを実行して、'ipykernel' を Python 環境にインストールします。\n",
      "\u001b[1;31mコマンド: 'conda install -n base ipykernel --update-deps --force-reinstall'"
     ]
    }
   ],
   "source": [
    "for k, v in bindata.items():\n",
    "    print(k, v.shape)"
   ]
  },
  {
   "cell_type": "code",
   "execution_count": null,
   "metadata": {},
   "outputs": [
    {
     "ename": "",
     "evalue": "",
     "output_type": "error",
     "traceback": [
      "\u001b[1;31m'base' でセルを実行するには、 ipykernel パッケージが必要です。\n",
      "\u001b[1;31m次のコマンドを実行して、'ipykernel' を Python 環境にインストールします。\n",
      "\u001b[1;31mコマンド: 'conda install -n base ipykernel --update-deps --force-reinstall'"
     ]
    }
   ],
   "source": [
    "with torch.no_grad():\n",
    "    for name, param in model.named_parameters():\n",
    "        for k, v in bindata.items():\n",
    "            # print(name, k)\n",
    "            if name == \"Decoder_b0.weight\":\n",
    "                rephape_weight = torch.reshape(torch.from_numpy(bindata[\"Decoder_w0\"]), [107, -1])\n",
    "                param.copy_(rephape_weight)\n",
    "            if name == \"Decoder_b0.bias\":\n",
    "                rephape_weight = torch.reshape(torch.from_numpy(bindata[\"Decoder_b0\"]), [107])\n",
    "                param.copy_(rephape_weight)\n",
    "            if name == \"pose_fc.weight\":\n",
    "                rephape_weight = torch.reshape(torch.from_numpy(bindata[\"Encoder0_w0\"]), [256, 192])\n",
    "                param.copy_(rephape_weight)\n",
    "            if name == \"pose_fc.bias\":\n",
    "                rephape_weight = torch.reshape(torch.from_numpy(bindata[\"Encoder0_b0\"]), [256])\n",
    "                param.copy_(rephape_weight)\n",
    "            if name == \"traj_fc.weight\":\n",
    "                rephape_weight = torch.reshape(torch.from_numpy(bindata[\"Encoder1_w0\"]), [256, 336])\n",
    "                param.copy_(rephape_weight)\n",
    "            if name == \"traj_fc.bias\":\n",
    "                rephape_weight = torch.reshape(torch.from_numpy(bindata[\"Encoder1_b0\"]), [256])\n",
    "                param.copy_(rephape_weight)\n",
    "            if name == \"sensor_fc.weight\":\n",
    "                rephape_weight = torch.reshape(torch.from_numpy(bindata[\"Encoder2_w0\"]), [256, 1822])\n",
    "                param.copy_(rephape_weight)\n",
    "            if name == \"sensor_fc.bias\":\n",
    "                rephape_weight = torch.reshape(torch.from_numpy(bindata[\"Encoder2_b0\"]), [256])\n",
    "                param.copy_(rephape_weight)\n",
    "            #resblock ???\n",
    "                "
   ]
  },
  {
   "cell_type": "code",
   "execution_count": null,
   "metadata": {},
   "outputs": [
    {
     "ename": "",
     "evalue": "",
     "output_type": "error",
     "traceback": [
      "\u001b[1;31m'base' でセルを実行するには、 ipykernel パッケージが必要です。\n",
      "\u001b[1;31m次のコマンドを実行して、'ipykernel' を Python 環境にインストールします。\n",
      "\u001b[1;31mコマンド: 'conda install -n base ipykernel --update-deps --force-reinstall'"
     ]
    }
   ],
   "source": [
    "print(model.res2.FC.parameters)"
   ]
  }
 ],
 "metadata": {
  "kernelspec": {
   "display_name": "py3.8",
   "language": "python",
   "name": "python3"
  },
  "language_info": {
   "codemirror_mode": {
    "name": "ipython",
    "version": 3
   },
   "file_extension": ".py",
   "mimetype": "text/x-python",
   "name": "python",
   "nbconvert_exporter": "python",
   "pygments_lexer": "ipython3",
   "version": "3.7.12"
  }
 },
 "nbformat": 4,
 "nbformat_minor": 2
}
