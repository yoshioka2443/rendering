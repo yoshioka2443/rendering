{
 "cells": [
  {
   "cell_type": "code",
   "execution_count": null,
   "metadata": {},
   "outputs": [],
   "source": [
    "import os\n",
    "os.chdir('..')\n",
    "print(os.getcwd())"
   ]
  },
  {
   "cell_type": "code",
   "execution_count": null,
   "metadata": {},
   "outputs": [],
   "source": [
    "import bpy\n",
    "\n",
    "def import_object(\n",
    "    filepath='.obj',\n",
    "    ):\n",
    "\n",
    "    bpy.ops.wm.obj_import(\n",
    "        filepath=filepath, \n",
    "        up_axis='Y',\n",
    "        forward_axis='X',\n",
    "        )\n",
    "    obj = bpy.context.selected_objects[-1]"
   ]
  }
 ],
 "metadata": {
  "language_info": {
   "name": "python"
  }
 },
 "nbformat": 4,
 "nbformat_minor": 2
}
