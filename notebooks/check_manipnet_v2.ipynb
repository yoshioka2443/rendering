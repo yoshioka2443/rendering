{
 "cells": [
  {
   "cell_type": "code",
   "execution_count": 1,
   "metadata": {},
   "outputs": [
    {
     "name": "stderr",
     "output_type": "stream",
     "text": [
      "2024-03-11 17:16:42.322191: I tensorflow/tsl/cuda/cudart_stub.cc:28] Could not find cuda drivers on your machine, GPU will not be used.\n",
      "2024-03-11 17:16:42.362474: I tensorflow/tsl/cuda/cudart_stub.cc:28] Could not find cuda drivers on your machine, GPU will not be used.\n",
      "2024-03-11 17:16:42.363512: I tensorflow/core/platform/cpu_feature_guard.cc:182] This TensorFlow binary is optimized to use available CPU instructions in performance-critical operations.\n",
      "To enable the following instructions: AVX2 AVX512F FMA, in other operations, rebuild TensorFlow with the appropriate compiler flags.\n",
      "2024-03-11 17:16:43.183780: W tensorflow/compiler/tf2tensorrt/utils/py_utils.cc:38] TF-TRT Warning: Could not find TensorRT\n"
     ]
    }
   ],
   "source": [
    "import sys\n",
    "sys.path.append(\"../modules\")\n",
    "\n",
    "import manipnet_v2.MainNN_Hand.Main_EncoderRes3Bin as MainNN\n",
    "\n"
   ]
  },
  {
   "cell_type": "code",
   "execution_count": 2,
   "metadata": {},
   "outputs": [
    {
     "ename": "AttributeError",
     "evalue": "module 'tensorflow' has no attribute 'GPUOptions'",
     "output_type": "error",
     "traceback": [
      "\u001b[0;31m---------------------------------------------------------------------------\u001b[0m",
      "\u001b[0;31mAttributeError\u001b[0m                            Traceback (most recent call last)",
      "Cell \u001b[0;32mIn[2], line 89\u001b[0m\n\u001b[1;32m     68\u001b[0m     mann\u001b[38;5;241m.\u001b[39mBuildModel(load_path, save_path,\n\u001b[1;32m     69\u001b[0m                     type_normalization,\n\u001b[1;32m     70\u001b[0m                     hiddenDim\u001b[38;5;241m=\u001b[39mhiddenDim,\n\u001b[0;32m   (...)\u001b[0m\n\u001b[1;32m     74\u001b[0m                     dim_encoders\u001b[38;5;241m=\u001b[39mdim_encoders,\n\u001b[1;32m     75\u001b[0m                     activation_encoders\u001b[38;5;241m=\u001b[39mactivation_encoders)\n\u001b[1;32m     76\u001b[0m     \u001b[38;5;66;03m# mann.Train(sess,\u001b[39;00m\n\u001b[1;32m     77\u001b[0m     \u001b[38;5;66;03m#            # Model name for Saving\u001b[39;00m\n\u001b[1;32m     78\u001b[0m     \u001b[38;5;66;03m#            name_model,\u001b[39;00m\n\u001b[0;32m   (...)\u001b[0m\n\u001b[1;32m     85\u001b[0m     \u001b[38;5;66;03m#            keep_prob_encoders=keep_prob_encoders\u001b[39;00m\n\u001b[1;32m     86\u001b[0m     \u001b[38;5;66;03m#            )\u001b[39;00m\n\u001b[0;32m---> 89\u001b[0m \u001b[43mmain\u001b[49m\u001b[43m(\u001b[49m\u001b[43m)\u001b[49m\n\u001b[1;32m     90\u001b[0m \u001b[38;5;66;03m# if __name__ == '__main__':\u001b[39;00m\n\u001b[1;32m     91\u001b[0m \u001b[38;5;66;03m#     main()\u001b[39;00m\n",
      "Cell \u001b[0;32mIn[2], line 64\u001b[0m, in \u001b[0;36mmain\u001b[0;34m()\u001b[0m\n\u001b[1;32m     62\u001b[0m \u001b[38;5;28;01mdef\u001b[39;00m \u001b[38;5;21mmain\u001b[39m():\n\u001b[1;32m     63\u001b[0m     GPU_Occupancy \u001b[38;5;241m=\u001b[39m \u001b[38;5;241m0.9\u001b[39m\n\u001b[0;32m---> 64\u001b[0m     gpu_options \u001b[38;5;241m=\u001b[39m \u001b[43mtf\u001b[49m\u001b[38;5;241;43m.\u001b[39;49m\u001b[43mGPUOptions\u001b[49m(per_process_gpu_memory_fraction\u001b[38;5;241m=\u001b[39mGPU_Occupancy)\n\u001b[1;32m     65\u001b[0m     sess \u001b[38;5;241m=\u001b[39m tf\u001b[38;5;241m.\u001b[39mSession(config\u001b[38;5;241m=\u001b[39mtf\u001b[38;5;241m.\u001b[39mConfigProto(gpu_options\u001b[38;5;241m=\u001b[39mgpu_options))\n\u001b[1;32m     67\u001b[0m     mann \u001b[38;5;241m=\u001b[39m MainNN()\n",
      "\u001b[0;31mAttributeError\u001b[0m: module 'tensorflow' has no attribute 'GPUOptions'"
     ]
    }
   ],
   "source": [
    "# Predict next frame by previous frame\n",
    "KMP_DUPLICATE_LIB_OK = True\n",
    "import sys\n",
    "import os\n",
    "import zipfile\n",
    "\n",
    "# sys.path.append('../Lib_MainNN_Hand')\n",
    "import numpy as np\n",
    "import tensorflow as tf\n",
    "# from Main_EncoderRes3Bin import MainNN\n",
    "import manipnet_v2.MainNN_Hand.Main_EncoderRes3Bin as MainNN\n",
    "\n",
    "\n",
    "datadir = 'modules/ManipNet/Code/Tensorflow/Data'\n",
    "load_path = f'{datadir}/Cylinder/train'\n",
    "test_path = f'{datadir}/Cylinder/test'\n",
    "save_path = f'{datadir}/ManipNetBIN'\n",
    "\n",
    "# unzip\n",
    "if((not os.path.isdir(f'{datadir}/Cylinder')) and os.path.exists(f'{datadir}/Cylinder.zip')):\n",
    "    print(\"unzip files\")\n",
    "    with zipfile.ZipFile(f\"{datadir}/Cylinder.zip\",\"r\") as zip_ref:\n",
    "        zip_ref.extractall(f\"{datadir}\")\n",
    "\n",
    "# Main NN\n",
    "name_model = \"ManipNet\"\n",
    "type_normalization = 0\n",
    "hiddenDim = 0\n",
    "activations = tf.nn.relu\n",
    "\n",
    "# # Encoder NN\n",
    "start_traj = 192\n",
    "start_dis = 528\n",
    "start_end = 2350\n",
    "\n",
    "index_encoder0 = np.arange(0, start_traj)\n",
    "dim_encoder0 = [512]\n",
    "activation_encoder0 = [0]\n",
    "\n",
    "index_encoder1 = np.arange(start_traj, start_dis)\n",
    "dim_encoder1 = [512]\n",
    "activation_encoder1 = [0]\n",
    "\n",
    "index_encoder2 = np.arange(start_dis, start_end)\n",
    "dim_encoder2 = [512]\n",
    "activation_encoder2 = [0]\n",
    "\n",
    "\n",
    "index_encoders = [index_encoder0, index_encoder1, index_encoder2]\n",
    "dim_encoders = [dim_encoder0, dim_encoder1, dim_encoder2]\n",
    "activation_encoders = [activation_encoder0, activation_encoder1, activation_encoder2]\n",
    "\n",
    "# Keep prob\n",
    "keep_prob_main = 0.7\n",
    "keep_prob_encoders = [0.7, 0.7, 0.7]\n",
    "\n",
    "\n",
    "\n",
    "# Tuning para\n",
    "learning_rate = 0.0001\n",
    "\n",
    "def main():\n",
    "    GPU_Occupancy = 0.9\n",
    "    # gpu_options = tf.GPUOptions(per_process_gpu_memory_fraction=GPU_Occupancy)\n",
    "    \n",
    "    sess = tf.Session(config=tf.ConfigProto(gpu_options=gpu_options))\n",
    "\n",
    "    mann = MainNN()\n",
    "    mann.BuildModel(load_path, save_path,\n",
    "                    type_normalization,\n",
    "                    hiddenDim=hiddenDim,\n",
    "                    activations=activations,\n",
    "\n",
    "                    index_encoders=index_encoders,\n",
    "                    dim_encoders=dim_encoders,\n",
    "                    activation_encoders=activation_encoders)\n",
    "    # mann.Train(sess,\n",
    "    #            # Model name for Saving\n",
    "    #            name_model,\n",
    "    #            # Flag/Path of test data\n",
    "    #            path_test=test_path,\n",
    "    #            flag_save_bin = True,\n",
    "    #            step_save=100, max_save=3,\n",
    "    #            # HyperParameters\n",
    "    #            keep_prob_main=keep_prob_main, batch_size=32, epoch=500, learning_rate_ini=learning_rate,\n",
    "    #            keep_prob_encoders=keep_prob_encoders\n",
    "    #            )\n",
    "\n",
    "\n",
    "main()\n",
    "# if __name__ == '__main__':\n",
    "#     main()\n"
   ]
  }
 ],
 "metadata": {
  "kernelspec": {
   "display_name": "py3.8",
   "language": "python",
   "name": "python3"
  },
  "language_info": {
   "codemirror_mode": {
    "name": "ipython",
    "version": 3
   },
   "file_extension": ".py",
   "mimetype": "text/x-python",
   "name": "python",
   "nbconvert_exporter": "python",
   "pygments_lexer": "ipython3",
   "version": "3.8.18"
  }
 },
 "nbformat": 4,
 "nbformat_minor": 2
}
