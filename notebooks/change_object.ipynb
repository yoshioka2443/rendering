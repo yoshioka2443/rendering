{
 "cells": [
  {
   "cell_type": "code",
   "execution_count": 3,
   "metadata": {},
   "outputs": [
    {
     "name": "stdout",
     "output_type": "stream",
     "text": [
      "/workspace/rendering\n"
     ]
    }
   ],
   "source": [
    "import os\n",
    "os.chdir('..')\n",
    "# os.chdir(os.path.dirname(__file__))\n",
    "print(os.getcwd())"
   ]
  },
  {
   "cell_type": "code",
   "execution_count": 6,
   "metadata": {},
   "outputs": [
    {
     "name": "stderr",
     "output_type": "stream",
     "text": [
      "Clipping input data to the valid range for imshow with RGB data ([0..1] for floats or [0..255] for integers).\n"
     ]
    },
    {
     "name": "stdout",
     "output_type": "stream",
     "text": [
      "['__class__', '__delattr__', '__dict__', '__dir__', '__doc__', '__eq__', '__format__', '__ge__', '__getattribute__', '__gt__', '__hash__', '__init__', '__init_subclass__', '__le__', '__lt__', '__module__', '__ne__', '__new__', '__reduce__', '__reduce_ex__', '__repr__', '__setattr__', '__sizeof__', '__str__', '__subclasshook__', '__weakref__', '_specular_reflectance', 'compute_specular_lighting', 'device', 'diffuse_reflectance', 'generic_texture', 'load_state_dict', 'normal_map', 'roughness', 'specular_reflectance', 'state_dict', 'two_sided', 'use_vertex_color']\n",
      "Scene construction, time: 0.00567 s\n",
      "Forward pass, time: 0.12116 s\n"
     ]
    },
    {
     "data": {
      "text/plain": [
       "<matplotlib.image.AxesImage at 0x7ff19fc76350>"
      ]
     },
     "execution_count": 6,
     "metadata": {},
     "output_type": "execute_result"
    },
    {
     "data": {
      "image/png": "[encoded data removed]",
      "text/plain": [
       "<Figure size 640x480 with 1 Axes>"
      ]
     },
     "metadata": {},
     "output_type": "display_data"
    }
   ],
   "source": [
    "import pyredner # pyredner will be the main Python module we import for redner.\n",
    "import torch # We also import PyTorch\n",
    "\n",
    "objects = pyredner.load_obj('data/models/021_bleach_cleanser/textured_simple.obj', return_objects=True)\n",
    "print(dir(objects[0].material))\n",
    "\n",
    "camera = pyredner.automatic_camera_placement(objects, resolution=(480, 640))\n",
    "scene = pyredner.Scene(camera = camera, objects = objects)\n",
    "light = pyredner.PointLight(\n",
    "            # position = (camera.position + torch.tensor((0.0, 0.0, 100.0))).to(pyredner.get_device()),\n",
    "            position = camera.position.to(pyredner.get_device()),\n",
    "            intensity = torch.tensor((20000.0, 30000.0, 20000.0), \n",
    "            device = pyredner.get_device()))\n",
    "# img = pyredner.render_albedo(scene)\n",
    "img = pyredner.render_deferred(scene, lights=[light])\n",
    "\n",
    "# Visualize img\n",
    "from matplotlib.pyplot import imshow\n",
    "%matplotlib inline\n",
    "# Need to gamma compress the image for displaying.\n",
    "imshow(torch.pow(img, 1.0/2.2).cpu())"
   ]
  },
  {
   "cell_type": "code",
   "execution_count": 5,
   "metadata": {},
   "outputs": [
    {
     "name": "stdout",
     "output_type": "stream",
     "text": [
      "WARNING: You are using a MANO model, with only 10 shape coefficients.\n",
      "WARNING: You are using a MANO model, with only 10 shape coefficients.\n"
     ]
    },
    {
     "name": "stderr",
     "output_type": "stream",
     "text": [
      "/workspace/rendering/utils/utils.py:14: FutureWarning: elementwise comparison failed; returning scalar instead, but in the future will perform elementwise comparison\n",
      "  if v is None or v == 'None':\n"
     ]
    }
   ],
   "source": [
    "from utils.utils import load_ho_meta\n",
    "from utils.mano import ManoLayer\n",
    "\n",
    "anno = load_ho_meta('data/HO3D_v3/train/ABF10/meta/0000.pkl')\n",
    "mano = ManoLayer()\n",
    "mano_verts = mano(anno)"
   ]
  },
  {
   "cell_type": "code",
   "execution_count": 7,
   "metadata": {},
   "outputs": [
    {
     "name": "stdout",
     "output_type": "stream",
     "text": [
      "torch.int32\n",
      "Scene construction, time: 0.01186 s\n",
      "Forward pass, time: 0.04696 s\n"
     ]
    },
    {
     "name": "stderr",
     "output_type": "stream",
     "text": [
      "/opt/conda/envs/render-hand/lib/python3.7/site-packages/pyredner/render_pytorch.py:214: UserWarning: Converting shape vertices from cpu to cuda:0, this can be inefficient.\n",
      "  warnings.warn('Converting shape vertices from {} to {}, this can be inefficient.'.format(shape.vertices.device, device))\n",
      "/opt/conda/envs/render-hand/lib/python3.7/site-packages/pyredner/render_pytorch.py:216: UserWarning: Converting shape indices from cpu to cuda:0, this can be inefficient.\n",
      "  warnings.warn('Converting shape indices from {} to {}, this can be inefficient.'.format(shape.indices.device, device))\n"
     ]
    }
   ],
   "source": [
    "mano_object = pyredner.Object(\n",
    "    vertices=mano_verts[0], \n",
    "    indices=mano.faces, \n",
    "    material=pyredner.Material(\n",
    "        diffuse_reflectance=pyredner.Texture(mano.map.to(pyredner.get_device()))\n",
    "        # diffuse_reflectance=torch.tensor((0.5, 0.5, 0.5), device=pyredner.get_device())))\n",
    "    )\n",
    ")\n",
    "print(mano.faces.dtype)\n",
    "\n",
    "scene = pyredner.Scene(camera = camera, objects = [mano_object])\n",
    "# Render the scene.\n",
    "img = pyredner.render_albedo(scene)\n",
    "    "
   ]
  },
  {
   "cell_type": "code",
   "execution_count": null,
   "metadata": {},
   "outputs": [],
   "source": []
  }
 ],
 "metadata": {
  "kernelspec": {
   "display_name": "render-hand",
   "language": "python",
   "name": "python3"
  },
  "language_info": {
   "codemirror_mode": {
    "name": "ipython",
    "version": 3
   },
   "file_extension": ".py",
   "mimetype": "text/x-python",
   "name": "python",
   "nbconvert_exporter": "python",
   "pygments_lexer": "ipython3",
   "version": "3.7.12"
  }
 },
 "nbformat": 4,
 "nbformat_minor": 2
}
