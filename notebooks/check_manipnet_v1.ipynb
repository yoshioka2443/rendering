{
 "cells": [
  {
   "cell_type": "code",
   "execution_count": 1,
   "metadata": {},
   "outputs": [
    {
     "name": "stdout",
     "output_type": "stream",
     "text": [
      "/mnt/SamsungSSD/workspace/yoshioka/rendering\n"
     ]
    }
   ],
   "source": [
    "import os\n",
    "os.chdir('..')\n",
    "print(os.getcwd())"
   ]
  },
  {
   "cell_type": "code",
   "execution_count": 2,
   "metadata": {},
   "outputs": [],
   "source": [
    "import zipfile\n",
    "\n",
    "load_path = 'modules/ManipNet/Code/Tensorflow/Data/Cylinder/train'\n",
    "test_path = 'modules/ManipNet/Code/Tensorflow/Data/Cylinder/test'\n",
    "save_path = 'modules/ManipNet/Code/Tensorflow/Data/ManipNetBIN'\n",
    "\n",
    "# unzip\n",
    "if((not os.path.isdir('modules/ManipNet/Code/Tensorflow/Data/Cylinder')) and os.path.exists('modules/ManipNet/Code/Tensorflow/Data/Cylinder.zip')):\n",
    "    print(\"unzip files\")\n",
    "    with zipfile.ZipFile(\"modules/ManipNet/Code/Tensorflow/Data/Cylinder.zip\",\"r\") as zip_ref:\n",
    "        zip_ref.extractall(\"modules/ManipNet/Code/Tensorflow/Data\")\n"
   ]
  },
  {
   "cell_type": "code",
   "execution_count": 3,
   "metadata": {},
   "outputs": [
    {
     "name": "stdout",
     "output_type": "stream",
     "text": [
      "WARNING:tensorflow:\n",
      "The TensorFlow contrib module will not be included in TensorFlow 2.0.\n",
      "For more information, please see:\n",
      "  * https://github.com/tensorflow/community/blob/master/rfcs/20180907-contrib-sunset.md\n",
      "  * https://github.com/tensorflow/addons\n",
      "  * https://github.com/tensorflow/io (for I/O related ops)\n",
      "If you depend on functionality not listed there, please file an issue.\n",
      "\n",
      "WARNING:tensorflow:From /mnt/SamsungSSD/workspace/yoshioka/rendering/modules/manipnet_v1/opt/NeuralNetwork.py:24: The name tf.set_random_seed is deprecated. Please use tf.compat.v1.set_random_seed instead.\n",
      "\n"
     ]
    }
   ],
   "source": [
    "import numpy as np\n",
    "import tensorflow as tf\n",
    "from modules.manipnet_v1.MainNN_Hand.Main_EncoderRes3Bin import MainNN\n",
    "\n",
    "mann = MainNN()\n"
   ]
  },
  {
   "cell_type": "code",
   "execution_count": 4,
   "metadata": {},
   "outputs": [
    {
     "name": "stdout",
     "output_type": "stream",
     "text": [
      "Data is Processed\n",
      "WARNING:tensorflow:From /mnt/SamsungSSD/workspace/yoshioka/rendering/modules/manipnet_v1/MainNN_Hand/Main_EncoderRes3Bin.py:33: The name tf.placeholder is deprecated. Please use tf.compat.v1.placeholder instead.\n",
      "\n",
      "--------------------\n",
      "Encoder  0\n",
      "Input dim  192\n",
      "Hidden dim  [512]\n",
      "Activations  [0]\n",
      "--------------------\n",
      "WARNING:tensorflow:From /mnt/SamsungSSD/workspace/yoshioka/rendering/modules/manipnet_v1/opt/MLP_new.py:33: The name tf.get_variable is deprecated. Please use tf.compat.v1.get_variable instead.\n",
      "\n",
      "encoder0 MLP is built [192, 512] [0]\n",
      "WARNING:tensorflow:From /mnt/SamsungSSD/workspace/yoshioka/rendering/modules/manipnet_v1/opt/MLP_new.py:43: calling dropout (from tensorflow.python.ops.nn_ops) with keep_prob is deprecated and will be removed in a future version.\n",
      "Instructions for updating:\n",
      "Please use `rate` instead of `keep_prob`. Rate should be set to `rate = 1 - keep_prob`.\n",
      "WARNING:tensorflow:From /mnt/SamsungSSD/workspace/yoshioka/rendering/modules/manipnet_v1/MainNN_Hand/Main_EncoderRes3Bin.py:68: The name tf.add_to_collection is deprecated. Please use tf.compat.v1.add_to_collection instead.\n",
      "\n",
      "--------------------\n",
      "Encoder  1\n",
      "Input dim  336\n",
      "Hidden dim  [512]\n",
      "Activations  [0]\n",
      "--------------------\n",
      "encoder1 MLP is built [336, 512] [0]\n",
      "--------------------\n",
      "Encoder  2\n",
      "Input dim  1822\n",
      "Hidden dim  [512]\n",
      "Activations  [0]\n",
      "--------------------\n",
      "encoder2 MLP is built [1822, 512] [0]\n",
      "activation <function relu at 0x7f960b268320>\n",
      "MLP0 MLP is built [1536, 1536] [0]\n",
      "MLP1 MLP is built [1536, 1536] [0]\n",
      "MLP2 MLP is built [1536, 1536] [0]\n",
      "MLP3 MLP is built [1536, 1536] [0]\n",
      "endMLP MLP is built [1536, 214] [0]\n",
      "WARNING:tensorflow:From /mnt/SamsungSSD/workspace/yoshioka/rendering/modules/manipnet_v1/MainNN_Hand/Main_EncoderRes3Bin.py:134: The name tf.train.AdamOptimizer is deprecated. Please use tf.compat.v1.train.AdamOptimizer instead.\n",
      "\n"
     ]
    }
   ],
   "source": [
    "index_encoders=[\n",
    "    np.arange(0, 192),\n",
    "    np.arange(192, 528),\n",
    "    np.arange(528, 2350),\n",
    "    ]\n",
    "dim_encoders=[[512], [512], [512]]\n",
    "activation_encoders=[[0], [0], [0]]\n",
    "\n",
    "mann.BuildModel(\n",
    "        # For data process\n",
    "        load_path, save_path, type_normalize=0,\n",
    "        # For main network\n",
    "        hiddenDim=0,\n",
    "        activations=tf.nn.relu,\n",
    "        # For encoder\n",
    "        index_encoders=index_encoders,\n",
    "        dim_encoders=dim_encoders,\n",
    "        activation_encoders=activation_encoders,\n",
    "        )"
   ]
  },
  {
   "cell_type": "code",
   "execution_count": 5,
   "metadata": {},
   "outputs": [],
   "source": [
    "import numpy as np\n",
    "from pathlib import Path\n",
    "\n",
    "bindata = {}\n",
    "for fp in sorted(Path(\"modules/ManipNet/Code/Tensorflow/Data/ManipNetBIN\").iterdir()):\n",
    "    # print(fp)\n",
    "    bindata[fp.stem] = np.fromfile(fp)"
   ]
  },
  {
   "cell_type": "code",
   "execution_count": 14,
   "metadata": {},
   "outputs": [
    {
     "name": "stdout",
     "output_type": "stream",
     "text": [
      "Encoder0_w0 (192, 512)\n",
      "Encoder0_b0 Tensor(\"encoder0b0:0\", shape=(512,), dtype=float32_ref)\n",
      "Encoder1_w0 (336, 512)\n",
      "Encoder1_b0 Tensor(\"encoder1b0:0\", shape=(512,), dtype=float32_ref)\n",
      "DensResNet0_w0 (1536, 1536)\n",
      "DensResNet0_b0 (1536,)\n",
      "DensResNet1_w0 (1536, 1536)\n",
      "DensResNet1_b0 (1536,)\n",
      "DensResNet2_w0 (1536, 1536)\n",
      "DensResNet2_b0 (1536,)\n",
      "(1536, 214)\n"
     ]
    }
   ],
   "source": [
    "# print(mann.encoders[0].__dict__)\n",
    "for i in range(2):\n",
    "    print(f\"Encoder{i}_w0\", mann.encoders[i].W[0].shape)\n",
    "    print(f\"Encoder{i}_b0\", mann.encoders[i].b[0]._variable)\n",
    "    # mann.encoders[i].W[0] = tf.Variable(bindata[f'Encoder{i}_w0'].view(mann.encoders[i].W[0].shape))\n",
    "    # mann.encoders[i].b[0] = tf.Variable(bindata[f'Encoder{i}_b0'].view(mann.encoders[i].b[0].shape))\n",
    "for i in range(3):\n",
    "    print(f\"DensResNet{i}_w0\", mann.DensResNet[i].W[0].shape)\n",
    "    print(f\"DensResNet{i}_b0\", mann.DensResNet[i].b[0].shape)\n",
    "    # mann.DensResNet[i].W[0] = tf.Variable(bindata[f'DensResNet{i}_w0'].view(mann.DensResNet[i].W[0].shape))\n",
    "    # mann.DensResNet[i].b[0] = tf.Variable(bindata[f'DensResNet{i}_b0'].view(mann.DensResNet[i].b[0].shape)\n",
    "print(mann.decoder.W[0].shape)\n",
    "# mann.decoder.W[0] = tf.Variable(bindata['Decoder_w0'])\n",
    "# mann.decoder.b[0] = tf.Variable(bindata['Decoder_b0'])\n",
    "\n",
    "# for i in range(1, 4):\n",
    "#     mann.DensResNet[i].W[0] = tf.Variable(bindata['Decoder_w'+str(i)])\n",
    "#     mann.decoder.b[i] = tf.Variable(bindata['Decoder_b'+str(i)])"
   ]
  },
  {
   "cell_type": "code",
   "execution_count": 8,
   "metadata": {},
   "outputs": [
    {
     "name": "stderr",
     "output_type": "stream",
     "text": [
      "2024-03-13 23:53:31.768299: I tensorflow/core/common_runtime/gpu/gpu_device.cc:1618] Found device 0 with properties: \n",
      "name: NVIDIA GeForce GTX 1080 Ti major: 6 minor: 1 memoryClockRate(GHz): 1.6705\n",
      "pciBusID: 0000:65:00.0\n",
      "2024-03-13 23:53:31.768639: W tensorflow/stream_executor/platform/default/dso_loader.cc:55] Could not load dynamic library 'libcudart.so.10.0'; dlerror: libcudart.so.10.0: cannot open shared object file: No such file or directory\n",
      "2024-03-13 23:53:31.768808: W tensorflow/stream_executor/platform/default/dso_loader.cc:55] Could not load dynamic library 'libcublas.so.10.0'; dlerror: libcublas.so.10.0: cannot open shared object file: No such file or directory\n",
      "2024-03-13 23:53:31.768960: W tensorflow/stream_executor/platform/default/dso_loader.cc:55] Could not load dynamic library 'libcufft.so.10.0'; dlerror: libcufft.so.10.0: cannot open shared object file: No such file or directory\n",
      "2024-03-13 23:53:31.769102: W tensorflow/stream_executor/platform/default/dso_loader.cc:55] Could not load dynamic library 'libcurand.so.10.0'; dlerror: libcurand.so.10.0: cannot open shared object file: No such file or directory\n",
      "2024-03-13 23:53:31.769242: W tensorflow/stream_executor/platform/default/dso_loader.cc:55] Could not load dynamic library 'libcusolver.so.10.0'; dlerror: libcusolver.so.10.0: cannot open shared object file: No such file or directory\n",
      "2024-03-13 23:53:31.769384: W tensorflow/stream_executor/platform/default/dso_loader.cc:55] Could not load dynamic library 'libcusparse.so.10.0'; dlerror: libcusparse.so.10.0: cannot open shared object file: No such file or directory\n",
      "2024-03-13 23:53:31.769530: W tensorflow/stream_executor/platform/default/dso_loader.cc:55] Could not load dynamic library 'libcudnn.so.7'; dlerror: libcudnn.so.7: cannot open shared object file: No such file or directory\n",
      "2024-03-13 23:53:31.769548: W tensorflow/core/common_runtime/gpu/gpu_device.cc:1641] Cannot dlopen some GPU libraries. Please make sure the missing libraries mentioned above are installed properly if you would like to use GPU. Follow the guide at https://www.tensorflow.org/install/gpu for how to download and setup the required libraries for your platform.\n",
      "Skipping registering GPU devices...\n",
      "2024-03-13 23:53:31.769577: I tensorflow/core/common_runtime/gpu/gpu_device.cc:1159] Device interconnect StreamExecutor with strength 1 edge matrix:\n",
      "2024-03-13 23:53:31.769591: I tensorflow/core/common_runtime/gpu/gpu_device.cc:1165]      0 \n",
      "2024-03-13 23:53:31.769605: I tensorflow/core/common_runtime/gpu/gpu_device.cc:1178] 0:   N \n"
     ]
    },
    {
     "name": "stdout",
     "output_type": "stream",
     "text": [
      "Training information\n",
      "Total Batch -> 316\n",
      "--------------------\n",
      "Input X -> 2350\n",
      "Output Y -> 214\n",
      "--------------------\n",
      "Main Keep Prob -> 0.7\n",
      "Encoders Keep Prob -> [0.7, 0.7, 0.7]\n",
      "TestData is Processed\n",
      "WARNING:tensorflow:From /mnt/SamsungSSD/workspace/yoshioka/rendering/modules/manipnet_v1/MainNN_Hand/Main_EncoderRes3Bin.py:173: The name tf.global_variables_initializer is deprecated. Please use tf.compat.v1.global_variables_initializer instead.\n",
      "\n",
      "WARNING:tensorflow:From /mnt/SamsungSSD/workspace/yoshioka/rendering/modules/manipnet_v1/MainNN_Hand/Main_EncoderRes3Bin.py:175: The name tf.train.Saver is deprecated. Please use tf.compat.v1.train.Saver instead.\n",
      "\n",
      "Epoch: 0001 Training Loss = 7.037237725\n",
      "Epoch: 0001 Testing Loss = 0.699002019\n",
      "Progress 0.83 %\r"
     ]
    },
    {
     "ename": "KeyboardInterrupt",
     "evalue": "",
     "output_type": "error",
     "traceback": [
      "\u001b[0;31m---------------------------------------------------------------------------\u001b[0m",
      "\u001b[0;31mKeyboardInterrupt\u001b[0m                         Traceback (most recent call last)",
      "\u001b[0;32m/tmp/ipykernel_1066279/434596806.py\u001b[0m in \u001b[0;36m<module>\u001b[0;34m\u001b[0m\n\u001b[1;32m     21\u001b[0m     \u001b[0mepoch\u001b[0m\u001b[0;34m=\u001b[0m\u001b[0;36m500\u001b[0m\u001b[0;34m,\u001b[0m\u001b[0;34m\u001b[0m\u001b[0;34m\u001b[0m\u001b[0m\n\u001b[1;32m     22\u001b[0m     \u001b[0mlearning_rate_ini\u001b[0m\u001b[0;34m=\u001b[0m\u001b[0mlearning_rate\u001b[0m\u001b[0;34m,\u001b[0m\u001b[0;34m\u001b[0m\u001b[0;34m\u001b[0m\u001b[0m\n\u001b[0;32m---> 23\u001b[0;31m     \u001b[0mkeep_prob_encoders\u001b[0m\u001b[0;34m=\u001b[0m\u001b[0mkeep_prob_encoders\u001b[0m\u001b[0;34m\u001b[0m\u001b[0;34m\u001b[0m\u001b[0m\n\u001b[0m\u001b[1;32m     24\u001b[0m     )\n",
      "\u001b[0;32m/mnt/SamsungSSD/workspace/yoshioka/rendering/modules/manipnet_v1/MainNN_Hand/Main_EncoderRes3Bin.py\u001b[0m in \u001b[0;36mTrain\u001b[0;34m(self, sess, name_model, path_test, flag_save_tf, flag_save_bin, step_save, max_save, keep_prob_main, batch_size, epoch, learning_rate_ini, keep_prob_encoders)\u001b[0m\n\u001b[1;32m    193\u001b[0m                              self.nn_lr_c: learning_rate_ini}\n\u001b[1;32m    194\u001b[0m                 l, _, = sess.run([self.mse_loss, self.optimizer],\n\u001b[0;32m--> 195\u001b[0;31m                                  feed_dict=feed_dict)\n\u001b[0m\u001b[1;32m    196\u001b[0m                 \u001b[0mavg_cost_train\u001b[0m \u001b[0;34m+=\u001b[0m \u001b[0ml\u001b[0m \u001b[0;34m/\u001b[0m \u001b[0mtotal_batch\u001b[0m\u001b[0;34m\u001b[0m\u001b[0;34m\u001b[0m\u001b[0m\n\u001b[1;32m    197\u001b[0m             \u001b[0mprint\u001b[0m\u001b[0;34m(\u001b[0m\u001b[0;34m'Epoch:'\u001b[0m\u001b[0;34m,\u001b[0m \u001b[0;34m'%04d'\u001b[0m \u001b[0;34m%\u001b[0m \u001b[0;34m(\u001b[0m\u001b[0me\u001b[0m \u001b[0;34m+\u001b[0m \u001b[0;36m1\u001b[0m\u001b[0;34m)\u001b[0m\u001b[0;34m,\u001b[0m \u001b[0;34m'Training Loss ='\u001b[0m\u001b[0;34m,\u001b[0m \u001b[0;34m'{:.9f}'\u001b[0m\u001b[0;34m.\u001b[0m\u001b[0mformat\u001b[0m\u001b[0;34m(\u001b[0m\u001b[0mavg_cost_train\u001b[0m\u001b[0;34m)\u001b[0m\u001b[0;34m)\u001b[0m\u001b[0;34m\u001b[0m\u001b[0;34m\u001b[0m\u001b[0m\n",
      "\u001b[0;32m~/miniconda3/envs/render-hand/lib/python3.7/site-packages/tensorflow_core/python/client/session.py\u001b[0m in \u001b[0;36mrun\u001b[0;34m(self, fetches, feed_dict, options, run_metadata)\u001b[0m\n\u001b[1;32m    954\u001b[0m     \u001b[0;32mtry\u001b[0m\u001b[0;34m:\u001b[0m\u001b[0;34m\u001b[0m\u001b[0;34m\u001b[0m\u001b[0m\n\u001b[1;32m    955\u001b[0m       result = self._run(None, fetches, feed_dict, options_ptr,\n\u001b[0;32m--> 956\u001b[0;31m                          run_metadata_ptr)\n\u001b[0m\u001b[1;32m    957\u001b[0m       \u001b[0;32mif\u001b[0m \u001b[0mrun_metadata\u001b[0m\u001b[0;34m:\u001b[0m\u001b[0;34m\u001b[0m\u001b[0;34m\u001b[0m\u001b[0m\n\u001b[1;32m    958\u001b[0m         \u001b[0mproto_data\u001b[0m \u001b[0;34m=\u001b[0m \u001b[0mtf_session\u001b[0m\u001b[0;34m.\u001b[0m\u001b[0mTF_GetBuffer\u001b[0m\u001b[0;34m(\u001b[0m\u001b[0mrun_metadata_ptr\u001b[0m\u001b[0;34m)\u001b[0m\u001b[0;34m\u001b[0m\u001b[0;34m\u001b[0m\u001b[0m\n",
      "\u001b[0;32m~/miniconda3/envs/render-hand/lib/python3.7/site-packages/tensorflow_core/python/client/session.py\u001b[0m in \u001b[0;36m_run\u001b[0;34m(self, handle, fetches, feed_dict, options, run_metadata)\u001b[0m\n\u001b[1;32m   1178\u001b[0m     \u001b[0;32mif\u001b[0m \u001b[0mfinal_fetches\u001b[0m \u001b[0;32mor\u001b[0m \u001b[0mfinal_targets\u001b[0m \u001b[0;32mor\u001b[0m \u001b[0;34m(\u001b[0m\u001b[0mhandle\u001b[0m \u001b[0;32mand\u001b[0m \u001b[0mfeed_dict_tensor\u001b[0m\u001b[0;34m)\u001b[0m\u001b[0;34m:\u001b[0m\u001b[0;34m\u001b[0m\u001b[0;34m\u001b[0m\u001b[0m\n\u001b[1;32m   1179\u001b[0m       results = self._do_run(handle, final_targets, final_fetches,\n\u001b[0;32m-> 1180\u001b[0;31m                              feed_dict_tensor, options, run_metadata)\n\u001b[0m\u001b[1;32m   1181\u001b[0m     \u001b[0;32melse\u001b[0m\u001b[0;34m:\u001b[0m\u001b[0;34m\u001b[0m\u001b[0;34m\u001b[0m\u001b[0m\n\u001b[1;32m   1182\u001b[0m       \u001b[0mresults\u001b[0m \u001b[0;34m=\u001b[0m \u001b[0;34m[\u001b[0m\u001b[0;34m]\u001b[0m\u001b[0;34m\u001b[0m\u001b[0;34m\u001b[0m\u001b[0m\n",
      "\u001b[0;32m~/miniconda3/envs/render-hand/lib/python3.7/site-packages/tensorflow_core/python/client/session.py\u001b[0m in \u001b[0;36m_do_run\u001b[0;34m(self, handle, target_list, fetch_list, feed_dict, options, run_metadata)\u001b[0m\n\u001b[1;32m   1357\u001b[0m     \u001b[0;32mif\u001b[0m \u001b[0mhandle\u001b[0m \u001b[0;32mis\u001b[0m \u001b[0;32mNone\u001b[0m\u001b[0;34m:\u001b[0m\u001b[0;34m\u001b[0m\u001b[0;34m\u001b[0m\u001b[0m\n\u001b[1;32m   1358\u001b[0m       return self._do_call(_run_fn, feeds, fetches, targets, options,\n\u001b[0;32m-> 1359\u001b[0;31m                            run_metadata)\n\u001b[0m\u001b[1;32m   1360\u001b[0m     \u001b[0;32melse\u001b[0m\u001b[0;34m:\u001b[0m\u001b[0;34m\u001b[0m\u001b[0;34m\u001b[0m\u001b[0m\n\u001b[1;32m   1361\u001b[0m       \u001b[0;32mreturn\u001b[0m \u001b[0mself\u001b[0m\u001b[0;34m.\u001b[0m\u001b[0m_do_call\u001b[0m\u001b[0;34m(\u001b[0m\u001b[0m_prun_fn\u001b[0m\u001b[0;34m,\u001b[0m \u001b[0mhandle\u001b[0m\u001b[0;34m,\u001b[0m \u001b[0mfeeds\u001b[0m\u001b[0;34m,\u001b[0m \u001b[0mfetches\u001b[0m\u001b[0;34m)\u001b[0m\u001b[0;34m\u001b[0m\u001b[0;34m\u001b[0m\u001b[0m\n",
      "\u001b[0;32m~/miniconda3/envs/render-hand/lib/python3.7/site-packages/tensorflow_core/python/client/session.py\u001b[0m in \u001b[0;36m_do_call\u001b[0;34m(self, fn, *args)\u001b[0m\n\u001b[1;32m   1363\u001b[0m   \u001b[0;32mdef\u001b[0m \u001b[0m_do_call\u001b[0m\u001b[0;34m(\u001b[0m\u001b[0mself\u001b[0m\u001b[0;34m,\u001b[0m \u001b[0mfn\u001b[0m\u001b[0;34m,\u001b[0m \u001b[0;34m*\u001b[0m\u001b[0margs\u001b[0m\u001b[0;34m)\u001b[0m\u001b[0;34m:\u001b[0m\u001b[0;34m\u001b[0m\u001b[0;34m\u001b[0m\u001b[0m\n\u001b[1;32m   1364\u001b[0m     \u001b[0;32mtry\u001b[0m\u001b[0;34m:\u001b[0m\u001b[0;34m\u001b[0m\u001b[0;34m\u001b[0m\u001b[0m\n\u001b[0;32m-> 1365\u001b[0;31m       \u001b[0;32mreturn\u001b[0m \u001b[0mfn\u001b[0m\u001b[0;34m(\u001b[0m\u001b[0;34m*\u001b[0m\u001b[0margs\u001b[0m\u001b[0;34m)\u001b[0m\u001b[0;34m\u001b[0m\u001b[0;34m\u001b[0m\u001b[0m\n\u001b[0m\u001b[1;32m   1366\u001b[0m     \u001b[0;32mexcept\u001b[0m \u001b[0merrors\u001b[0m\u001b[0;34m.\u001b[0m\u001b[0mOpError\u001b[0m \u001b[0;32mas\u001b[0m \u001b[0me\u001b[0m\u001b[0;34m:\u001b[0m\u001b[0;34m\u001b[0m\u001b[0;34m\u001b[0m\u001b[0m\n\u001b[1;32m   1367\u001b[0m       \u001b[0mmessage\u001b[0m \u001b[0;34m=\u001b[0m \u001b[0mcompat\u001b[0m\u001b[0;34m.\u001b[0m\u001b[0mas_text\u001b[0m\u001b[0;34m(\u001b[0m\u001b[0me\u001b[0m\u001b[0;34m.\u001b[0m\u001b[0mmessage\u001b[0m\u001b[0;34m)\u001b[0m\u001b[0;34m\u001b[0m\u001b[0;34m\u001b[0m\u001b[0m\n",
      "\u001b[0;32m~/miniconda3/envs/render-hand/lib/python3.7/site-packages/tensorflow_core/python/client/session.py\u001b[0m in \u001b[0;36m_run_fn\u001b[0;34m(feed_dict, fetch_list, target_list, options, run_metadata)\u001b[0m\n\u001b[1;32m   1348\u001b[0m       \u001b[0mself\u001b[0m\u001b[0;34m.\u001b[0m\u001b[0m_extend_graph\u001b[0m\u001b[0;34m(\u001b[0m\u001b[0;34m)\u001b[0m\u001b[0;34m\u001b[0m\u001b[0;34m\u001b[0m\u001b[0m\n\u001b[1;32m   1349\u001b[0m       return self._call_tf_sessionrun(options, feed_dict, fetch_list,\n\u001b[0;32m-> 1350\u001b[0;31m                                       target_list, run_metadata)\n\u001b[0m\u001b[1;32m   1351\u001b[0m \u001b[0;34m\u001b[0m\u001b[0m\n\u001b[1;32m   1352\u001b[0m     \u001b[0;32mdef\u001b[0m \u001b[0m_prun_fn\u001b[0m\u001b[0;34m(\u001b[0m\u001b[0mhandle\u001b[0m\u001b[0;34m,\u001b[0m \u001b[0mfeed_dict\u001b[0m\u001b[0;34m,\u001b[0m \u001b[0mfetch_list\u001b[0m\u001b[0;34m)\u001b[0m\u001b[0;34m:\u001b[0m\u001b[0;34m\u001b[0m\u001b[0;34m\u001b[0m\u001b[0m\n",
      "\u001b[0;32m~/miniconda3/envs/render-hand/lib/python3.7/site-packages/tensorflow_core/python/client/session.py\u001b[0m in \u001b[0;36m_call_tf_sessionrun\u001b[0;34m(self, options, feed_dict, fetch_list, target_list, run_metadata)\u001b[0m\n\u001b[1;32m   1441\u001b[0m     return tf_session.TF_SessionRun_wrapper(self._session, options, feed_dict,\n\u001b[1;32m   1442\u001b[0m                                             \u001b[0mfetch_list\u001b[0m\u001b[0;34m,\u001b[0m \u001b[0mtarget_list\u001b[0m\u001b[0;34m,\u001b[0m\u001b[0;34m\u001b[0m\u001b[0;34m\u001b[0m\u001b[0m\n\u001b[0;32m-> 1443\u001b[0;31m                                             run_metadata)\n\u001b[0m\u001b[1;32m   1444\u001b[0m \u001b[0;34m\u001b[0m\u001b[0m\n\u001b[1;32m   1445\u001b[0m   \u001b[0;32mdef\u001b[0m \u001b[0m_call_tf_sessionprun\u001b[0m\u001b[0;34m(\u001b[0m\u001b[0mself\u001b[0m\u001b[0;34m,\u001b[0m \u001b[0mhandle\u001b[0m\u001b[0;34m,\u001b[0m \u001b[0mfeed_dict\u001b[0m\u001b[0;34m,\u001b[0m \u001b[0mfetch_list\u001b[0m\u001b[0;34m)\u001b[0m\u001b[0;34m:\u001b[0m\u001b[0;34m\u001b[0m\u001b[0;34m\u001b[0m\u001b[0m\n",
      "\u001b[0;31mKeyboardInterrupt\u001b[0m: "
     ]
    }
   ],
   "source": [
    "name_model = \"ManipNet\"\n",
    "keep_prob_main = 0.7\n",
    "keep_prob_encoders = [0.7, 0.7, 0.7]\n",
    "learning_rate = 0.0001\n",
    "\n",
    "GPU_Occupancy = 0.9\n",
    "gpu_options = tf.GPUOptions(per_process_gpu_memory_fraction=GPU_Occupancy)\n",
    "sess = tf.Session(config=tf.ConfigProto(gpu_options=gpu_options))\n",
    "\n",
    "mann.Train(\n",
    "    sess,\n",
    "    # Model name for Saving\n",
    "    name_model,\n",
    "    # Flag/Path of test data\n",
    "    path_test=test_path,\n",
    "    flag_save_bin = True,\n",
    "    step_save=100, max_save=3,\n",
    "    # HyperParameters\n",
    "    keep_prob_main=keep_prob_main, \n",
    "    batch_size=32, \n",
    "    epoch=500, \n",
    "    learning_rate_ini=learning_rate,\n",
    "    keep_prob_encoders=keep_prob_encoders\n",
    "    )"
   ]
  }
 ],
 "metadata": {
  "kernelspec": {
   "display_name": "render-hand",
   "language": "python",
   "name": "python3"
  },
  "language_info": {
   "codemirror_mode": {
    "name": "ipython",
    "version": 3
   },
   "file_extension": ".py",
   "mimetype": "text/x-python",
   "name": "python",
   "nbconvert_exporter": "python",
   "pygments_lexer": "ipython3",
   "version": "3.7.12"
  }
 },
 "nbformat": 4,
 "nbformat_minor": 2
}
