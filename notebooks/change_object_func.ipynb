{
 "cells": [
  {
   "cell_type": "code",
   "execution_count": 2,
   "metadata": {},
   "outputs": [
    {
     "name": "stdout",
     "output_type": "stream",
     "text": [
      "/workspace/rendering\n"
     ]
    }
   ],
   "source": [
    "import os\n",
    "os.chdir('..')\n",
    "# os.chdir(os.path.dirname(__file__))\n",
    "print(os.getcwd())"
   ]
  },
  {
   "cell_type": "code",
   "execution_count": 3,
   "metadata": {},
   "outputs": [
    {
     "name": "stdout",
     "output_type": "stream",
     "text": [
      "[PosixPath('data/HO3D_v3/train/MDF11/meta/0000.pkl'), PosixPath('data/HO3D_v3/train/MDF11/meta/0001.pkl'), PosixPath('data/HO3D_v3/train/MDF11/meta/0002.pkl'), PosixPath('data/HO3D_v3/train/MDF11/meta/0003.pkl'), PosixPath('data/HO3D_v3/train/MDF11/meta/0004.pkl')]\n",
      "[PosixPath('data/HO3D_v3/train/MDF11/rgb/0000.jpg'), PosixPath('data/HO3D_v3/train/MDF11/rgb/0001.jpg'), PosixPath('data/HO3D_v3/train/MDF11/rgb/0002.jpg'), PosixPath('data/HO3D_v3/train/MDF11/rgb/0003.jpg'), PosixPath('data/HO3D_v3/train/MDF11/rgb/0004.jpg')]\n",
      "data/models/025_mug/textured_simple.obj\n"
     ]
    }
   ],
   "source": [
    "from pathlib import Path\n",
    "\n",
    "\n",
    "hov3_flame_number = 3000\n",
    "\n",
    "filepaths_pkl = Path(\"data/HO3D_v3/train/\").glob(\"*/meta/*.pkl\")\n",
    "filepaths_pkl_list = list(filepaths_pkl)\n",
    "print(filepaths_pkl_list[0:5])\n",
    "filepaths_bg = Path(\"data/HO3D_v3/train/\").glob(\"*/rgb/*.jpg\")\n",
    "filepaths_bg_list = list(filepaths_bg)\n",
    "print(filepaths_bg_list[0:5])\n",
    "\n",
    "#max 0~20\n",
    "object_number = 13\n",
    "filepaths_obj = Path(\"data/models/\").glob(\"*/textured_simple.obj\")\n",
    "filepaths_obj_list = list(filepaths_obj)\n",
    "print(filepaths_obj_list[object_number])"
   ]
  },
  {
   "cell_type": "code",
   "execution_count": 4,
   "metadata": {},
   "outputs": [
    {
     "name": "stderr",
     "output_type": "stream",
     "text": [
      "/root/anaconda3/envs/grabnet/lib/python3.9/site-packages/tqdm/auto.py:21: TqdmWarning: IProgress not found. Please update jupyter and ipywidgets. See https://ipywidgets.readthedocs.io/en/stable/user_install.html\n",
      "  from .autonotebook import tqdm as notebook_tqdm\n"
     ]
    },
    {
     "ename": "ModuleNotFoundError",
     "evalue": "No module named 'smplx'",
     "output_type": "error",
     "traceback": [
      "\u001b[0;31m---------------------------------------------------------------------------\u001b[0m",
      "\u001b[0;31mModuleNotFoundError\u001b[0m                       Traceback (most recent call last)",
      "Cell \u001b[0;32mIn[4], line 7\u001b[0m\n\u001b[1;32m      5\u001b[0m \u001b[38;5;28;01mfrom\u001b[39;00m \u001b[38;5;21;01mmatplotlib\u001b[39;00m\u001b[38;5;21;01m.\u001b[39;00m\u001b[38;5;21;01mpyplot\u001b[39;00m \u001b[38;5;28;01mimport\u001b[39;00m imshow\n\u001b[1;32m      6\u001b[0m \u001b[38;5;28;01mfrom\u001b[39;00m \u001b[38;5;21;01mutils\u001b[39;00m\u001b[38;5;21;01m.\u001b[39;00m\u001b[38;5;21;01mutils\u001b[39;00m \u001b[38;5;28;01mimport\u001b[39;00m load_ho_meta, apply_transform_to_mesh\n\u001b[0;32m----> 7\u001b[0m \u001b[38;5;28;01mfrom\u001b[39;00m \u001b[38;5;21;01mutils\u001b[39;00m\u001b[38;5;21;01m.\u001b[39;00m\u001b[38;5;21;01mmano\u001b[39;00m \u001b[38;5;28;01mimport\u001b[39;00m ManoLayer\n\u001b[1;32m     10\u001b[0m bg_img \u001b[38;5;241m=\u001b[39m np\u001b[38;5;241m.\u001b[39marray(Image\u001b[38;5;241m.\u001b[39mopen(filepaths_bg_list[hov3_flame_number]), dtype\u001b[38;5;241m=\u001b[39mnp\u001b[38;5;241m.\u001b[39mfloat32)\u001b[38;5;241m/\u001b[39m\u001b[38;5;241m255.0\u001b[39m\n\u001b[1;32m     11\u001b[0m anno \u001b[38;5;241m=\u001b[39m load_ho_meta(filepaths_pkl_list[hov3_flame_number])\n",
      "File \u001b[0;32m/workspace/rendering/utils/mano.py:1\u001b[0m\n\u001b[0;32m----> 1\u001b[0m \u001b[38;5;28;01mimport\u001b[39;00m \u001b[38;5;21;01msmplx\u001b[39;00m\n\u001b[1;32m      2\u001b[0m \u001b[38;5;28;01mimport\u001b[39;00m \u001b[38;5;21;01mtorch\u001b[39;00m\n\u001b[1;32m      3\u001b[0m \u001b[38;5;28;01mimport\u001b[39;00m \u001b[38;5;21;01mnumpy\u001b[39;00m \u001b[38;5;28;01mas\u001b[39;00m \u001b[38;5;21;01mnp\u001b[39;00m\n",
      "\u001b[0;31mModuleNotFoundError\u001b[0m: No module named 'smplx'"
     ]
    }
   ],
   "source": [
    "import pyredner # pyredner will be the main Python module we import for redner.\n",
    "import torch # We also import PyTorch\n",
    "from PIL import Image\n",
    "import numpy as np\n",
    "from matplotlib.pyplot import imshow\n",
    "from utils.utils import load_ho_meta, apply_transform_to_mesh\n",
    "from utils.mano import ManoLayer\n",
    "\n",
    "\n",
    "bg_img = np.array(Image.open(filepaths_bg_list[hov3_flame_number]), dtype=np.float32)/255.0\n",
    "anno = load_ho_meta(filepaths_pkl_list[hov3_flame_number])\n",
    "\n",
    "mano = ManoLayer()\n",
    "mano_verts = mano(anno)\n",
    "\n",
    "hand_joints = anno[\"handJoints3D\"]\n",
    "print(anno[\"handPose\"].shape)\n",
    "print(hand_joints.shape)\n",
    "print(list(anno))"
   ]
  },
  {
   "cell_type": "code",
   "execution_count": null,
   "metadata": {},
   "outputs": [],
   "source": [
    "# def read_hov3(hov3_dir, flame_num, objectfile):\n",
    "#     bg_path = hov3_dir + \"/rgb/\" + str(flame_num) + \".jpg\"\n",
    "#     bg_img = np.array(Image.open(bg_path), dtype=np.float32)/255.0\n",
    "#     meta_path = hov3_dir + \"/meta/\" + str(flame_num) + \".pkl\"\n",
    "#     anno = load_ho_meta(meta_path)\n",
    "#     mano = ManoLayer()\n",
    "#     mano_verts = mano(anno)\n",
    "#     hand_joints = anno[\"handJoints3D\"]\n",
    "#     print(hand_joints.shape)"
   ]
  },
  {
   "cell_type": "code",
   "execution_count": null,
   "metadata": {},
   "outputs": [
    {
     "ename": "NameError",
     "evalue": "name 'bg_img' is not defined",
     "output_type": "error",
     "traceback": [
      "\u001b[0;31m---------------------------------------------------------------------------\u001b[0m",
      "\u001b[0;31mNameError\u001b[0m                                 Traceback (most recent call last)",
      "Cell \u001b[0;32mIn[1], line 1\u001b[0m\n\u001b[0;32m----> 1\u001b[0m resolution \u001b[38;5;241m=\u001b[39m \u001b[43mbg_img\u001b[49m\u001b[38;5;241m.\u001b[39mshape[:\u001b[38;5;241m2\u001b[39m]\n\u001b[1;32m      3\u001b[0m mano_object \u001b[38;5;241m=\u001b[39m pyredner\u001b[38;5;241m.\u001b[39mObject(\n\u001b[1;32m      4\u001b[0m     vertices\u001b[38;5;241m=\u001b[39mmano_verts[\u001b[38;5;241m0\u001b[39m], \n\u001b[1;32m      5\u001b[0m     indices\u001b[38;5;241m=\u001b[39mmano\u001b[38;5;241m.\u001b[39mfaces, \n\u001b[0;32m   (...)\u001b[0m\n\u001b[1;32m     10\u001b[0m     )\n\u001b[1;32m     11\u001b[0m )\n\u001b[1;32m     12\u001b[0m \u001b[38;5;28mprint\u001b[39m(mano\u001b[38;5;241m.\u001b[39mfaces\u001b[38;5;241m.\u001b[39mdtype)\n",
      "\u001b[0;31mNameError\u001b[0m: name 'bg_img' is not defined"
     ]
    }
   ],
   "source": [
    "resolution = bg_img.shape[:2]\n",
    "\n",
    "mano_object = pyredner.Object(\n",
    "    vertices=mano_verts[0], \n",
    "    indices=mano.faces, \n",
    "    uvs=mano.uv,\n",
    "    material=pyredner.Material(\n",
    "        diffuse_reflectance=pyredner.Texture(mano.map.to(pyredner.get_device()))\n",
    "        # diffuse_reflectance=torch.tensor((0.5, 0.5, 0.5), device=pyredner.get_device())))\n",
    "    )\n",
    ")\n",
    "print(mano.faces.dtype)\n",
    "\n",
    "world2cam = torch.eye(4)\n",
    "R = torch.diag(torch.tensor([-1.,1.,-1.]))\n",
    "world2cam[:3,:3] = R\n",
    "cam2world = world2cam.inverse()\n",
    "K = torch.tensor(anno['camMat'], dtype=torch.float32)\n",
    "fx, fy = K.diagonal()[:2]\n",
    "px, py = K[:2,2]\n",
    "print(K)\n",
    "intrinsic_mat = torch.tensor([\n",
    "        [fx / resolution[1] * 2, 0.0000, px/resolution[1]-0.5],\n",
    "        [0.0000, fy / resolution[1] * 2, py/resolution[0]-0.5],\n",
    "        [0.0000, 0.0000, 1.0000]]\n",
    "        )\n",
    "\n",
    "fov = 2* torch.atan(0.5 * resolution[1] / K[0, 0]) * 180 / 3.1415926\n",
    "print(fov)\n",
    "camera = pyredner.Camera(\n",
    "    intrinsic_mat=intrinsic_mat,\n",
    "    # cam_to_world=cam2world,\n",
    "    position = torch.tensor([0, 0, 0.], dtype=torch.float32),\n",
    "    look_at = torch.tensor([0, 0, -1.], dtype=torch.float32),\n",
    "    up = torch.tensor([0, 1., 0], dtype=torch.float32),\n",
    "    # fov = torch.tensor([fov], dtype=torch.float32),\n",
    "    resolution=resolution,\n",
    ")\n",
    "print(camera.__dict__)\n",
    "dirlight = pyredner.DirectionalLight(\n",
    "    direction = torch.tensor([0.0, 0.0, -1.0]), \n",
    "    intensity = torch.ones(3)*3.0,\n",
    ")\n",
    "# envmap = pyredner.EnvironmentMap(torch.tensor(bg_img))\n",
    "\n",
    "# objects = pyredner.load_obj('data/models/002_master_chef_can/textured_simple.obj', return_objects=True)\n",
    "objects = pyredner.load_obj(filepaths_obj_list[object_number], return_objects=True)\n",
    "obj_object = pyredner.Object(\n",
    "    vertices=apply_transform_to_mesh(objects[0].vertices, anno),\n",
    "    indices=objects[0].indices, \n",
    "    uvs=objects[0].uvs,\n",
    "    uv_indices=objects[0].uv_indices,\n",
    "    material=objects[0].material\n",
    ")\n",
    "\n",
    "# create scene\n",
    "scene = pyredner.Scene(\n",
    "    camera = camera, \n",
    "    objects = [\n",
    "        mano_object, \n",
    "        obj_object,\n",
    "        ]\n",
    "    )\n",
    "\n",
    "# Render the scene.\n",
    "# render = pyredner.render_albedo(scene, alpha=True)\n",
    "render = pyredner.render_deferred(scene, lights=[dirlight], alpha=True)\n",
    "    \n",
    "\n",
    "import matplotlib.pyplot as plt\n",
    "\n",
    "fig, axs = plt.subplots(1, 2, figsize=(10, 5))\n",
    "axs[0].imshow(bg_img)\n",
    "axs[1].imshow(bg_img)\n",
    "axs[1].imshow(torch.pow(render, 1.0/2.2).cpu())"
   ]
  },
  {
   "cell_type": "code",
   "execution_count": null,
   "metadata": {},
   "outputs": [],
   "source": []
  },
  {
   "cell_type": "code",
   "execution_count": null,
   "metadata": {},
   "outputs": [],
   "source": []
  }
 ],
 "metadata": {
  "kernelspec": {
   "display_name": "render-hand",
   "language": "python",
   "name": "python3"
  },
  "language_info": {
   "codemirror_mode": {
    "name": "ipython",
    "version": 3
   },
   "file_extension": ".py",
   "mimetype": "text/x-python",
   "name": "python",
   "nbconvert_exporter": "python",
   "pygments_lexer": "ipython3",
   "version": "3.9.19"
  }
 },
 "nbformat": 4,
 "nbformat_minor": 2
}
