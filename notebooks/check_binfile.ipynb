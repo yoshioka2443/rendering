{
 "cells": [
  {
   "cell_type": "code",
   "execution_count": 1,
   "metadata": {},
   "outputs": [
    {
     "name": "stdout",
     "output_type": "stream",
     "text": [
      "/mnt/SamsungSSD/workspace/yoshioka/rendering\n"
     ]
    }
   ],
   "source": [
    "import os\n",
    "os.chdir('..')\n",
    "print(os.getcwd())"
   ]
  },
  {
   "cell_type": "code",
   "execution_count": 9,
   "metadata": {},
   "outputs": [],
   "source": [
    "import numpy as np\n",
    "from pathlib import Path\n",
    "\n",
    "bindata = {}\n",
    "for fp in sorted(Path(\"modules/ManipNet/Code/Tensorflow/Data/ManipNetBIN\").iterdir()):\n",
    "    # print(fp)\n",
    "    bindata[fp.stem] = np.fromfile(fp)"
   ]
  },
  {
   "cell_type": "code",
   "execution_count": 10,
   "metadata": {},
   "outputs": [
    {
     "name": "stdout",
     "output_type": "stream",
     "text": [
      "Decoder_b0 (107,)\n",
      "Decoder_w0 (164352,)\n",
      "DenseRes0_b0 (768,)\n",
      "DenseRes0_w0 (1179648,)\n",
      "DenseRes1_b0 (768,)\n",
      "DenseRes1_w0 (1179648,)\n",
      "DenseRes2_b0 (768,)\n",
      "DenseRes2_w0 (1179648,)\n",
      "DenseRes3_b0 (768,)\n",
      "DenseRes3_w0 (1179648,)\n",
      "Encoder0_b0 (256,)\n",
      "Encoder0_w0 (49152,)\n",
      "Encoder1_b0 (256,)\n",
      "Encoder1_w0 (86016,)\n",
      "Encoder2_b0 (256,)\n",
      "Encoder2_w0 (466432,)\n",
      "Xmean (1175,)\n",
      "Xstd (1175,)\n",
      "Ymean (107,)\n",
      "Ystd (107,)\n"
     ]
    }
   ],
   "source": [
    "for k, v in bindata.items():\n",
    "    print(k, v.shape)"
   ]
  },
  {
   "cell_type": "code",
   "execution_count": null,
   "metadata": {},
   "outputs": [],
   "source": []
  }
 ],
 "metadata": {
  "kernelspec": {
   "display_name": "render-hand",
   "language": "python",
   "name": "python3"
  },
  "language_info": {
   "codemirror_mode": {
    "name": "ipython",
    "version": 3
   },
   "file_extension": ".py",
   "mimetype": "text/x-python",
   "name": "python",
   "nbconvert_exporter": "python",
   "pygments_lexer": "ipython3",
   "version": "3.7.12"
  }
 },
 "nbformat": 4,
 "nbformat_minor": 2
}
